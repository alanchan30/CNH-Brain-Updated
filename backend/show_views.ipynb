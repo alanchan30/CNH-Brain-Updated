{
  "cells": [
    {
      "cell_type": "code",
      "execution_count": 1,
      "metadata": {
        "collapsed": false
      },
      "outputs": [],
      "source": [
        "%matplotlib inline"
      ]
    },
    {
      "cell_type": "markdown",
      "metadata": {},
      "source": [
        "\n",
        "# Show the different brain views\n",
        "\n",
        "\n",
        "Among the views available are lateral, rostral, caudal, frontal etc.\n"
      ]
    },
    {
      "cell_type": "code",
      "execution_count": 2,
      "metadata": {
        "collapsed": false
      },
      "outputs": [
        {
          "name": "stdout",
          "output_type": "stream",
          "text": [
            "Automatically created module for IPython interactive environment\n"
          ]
        },
        {
          "ename": "FileNotFoundError",
          "evalue": "[Errno 2] No such file or directory: '/Users/nnagelia/freesurfer_subjects/fsaverage/surf/lh.white'",
          "output_type": "error",
          "traceback": [
            "\u001b[31m---------------------------------------------------------------------------\u001b[39m",
            "\u001b[31mFileNotFoundError\u001b[39m                         Traceback (most recent call last)",
            "\u001b[36mCell\u001b[39m\u001b[36m \u001b[39m\u001b[32mIn[2]\u001b[39m\u001b[32m, line 14\u001b[39m\n\u001b[32m     12\u001b[39m subject_id, surf = \u001b[33m'\u001b[39m\u001b[33mfsaverage\u001b[39m\u001b[33m'\u001b[39m, \u001b[33m'\u001b[39m\u001b[33mwhite\u001b[39m\u001b[33m'\u001b[39m\n\u001b[32m     13\u001b[39m hemi = \u001b[33m'\u001b[39m\u001b[33mlh\u001b[39m\u001b[33m'\u001b[39m\n\u001b[32m---> \u001b[39m\u001b[32m14\u001b[39m brain = \u001b[43mBrain\u001b[49m\u001b[43m(\u001b[49m\u001b[43msubject_id\u001b[49m\u001b[43m,\u001b[49m\u001b[43m \u001b[49m\u001b[43mhemi\u001b[49m\u001b[43m,\u001b[49m\u001b[43m \u001b[49m\u001b[43msurf\u001b[49m\u001b[43m,\u001b[49m\u001b[43m \u001b[49m\u001b[43msize\u001b[49m\u001b[43m=\u001b[49m\u001b[43m(\u001b[49m\u001b[32;43m800\u001b[39;49m\u001b[43m,\u001b[49m\u001b[43m \u001b[49m\u001b[32;43m800\u001b[39;49m\u001b[43m)\u001b[49m\u001b[43m,\u001b[49m\u001b[43m \u001b[49m\u001b[43minteraction\u001b[49m\u001b[43m=\u001b[49m\u001b[33;43m'\u001b[39;49m\u001b[33;43mterrain\u001b[39;49m\u001b[33;43m'\u001b[39;49m\u001b[43m,\u001b[49m\n\u001b[32m     15\u001b[39m \u001b[43m              \u001b[49m\u001b[43mcortex\u001b[49m\u001b[43m=\u001b[49m\u001b[33;43m'\u001b[39;49m\u001b[33;43m0.5\u001b[39;49m\u001b[33;43m'\u001b[39;49m\u001b[43m,\u001b[49m\u001b[43m \u001b[49m\u001b[43malpha\u001b[49m\u001b[43m=\u001b[49m\u001b[32;43m0.5\u001b[39;49m\u001b[43m,\u001b[49m\u001b[43m \u001b[49m\u001b[43mshow_toolbar\u001b[49m\u001b[43m=\u001b[49m\u001b[38;5;28;43;01mTrue\u001b[39;49;00m\u001b[43m,\u001b[49m\u001b[43m \u001b[49m\u001b[43munits\u001b[49m\u001b[43m=\u001b[49m\u001b[33;43m'\u001b[39;49m\u001b[33;43mm\u001b[39;49m\u001b[33;43m'\u001b[39;49m\u001b[43m)\u001b[49m\n\u001b[32m     17\u001b[39m \u001b[38;5;66;03m# Read the MNE dSPM inverse solution\u001b[39;00m\n\u001b[32m     19\u001b[39m hemi = \u001b[33m'\u001b[39m\u001b[33mlh\u001b[39m\u001b[33m'\u001b[39m\n",
            "\u001b[36mFile \u001b[39m\u001b[32m/opt/miniconda3/envs/cnh_brain/lib/python3.13/site-packages/surfer/viz.py:447\u001b[39m, in \u001b[36mBrain.__init__\u001b[39m\u001b[34m(self, subject_id, hemi, surf, title, cortex, alpha, size, background, foreground, figure, subjects_dir, views, offset, show_toolbar, offscreen, interaction, units, antialias)\u001b[39m\n\u001b[32m    444\u001b[39m geo = Surface(subject_id, h, surf, subjects_dir, offset,\n\u001b[32m    445\u001b[39m               units=\u001b[38;5;28mself\u001b[39m._units)\n\u001b[32m    446\u001b[39m \u001b[38;5;66;03m# Load in the geometry and (maybe) curvature\u001b[39;00m\n\u001b[32m--> \u001b[39m\u001b[32m447\u001b[39m \u001b[43mgeo\u001b[49m\u001b[43m.\u001b[49m\u001b[43mload_geometry\u001b[49m\u001b[43m(\u001b[49m\u001b[43m)\u001b[49m\n\u001b[32m    448\u001b[39m \u001b[38;5;28;01mif\u001b[39;00m geo_curv:\n\u001b[32m    449\u001b[39m     geo.load_curvature()\n",
            "\u001b[36mFile \u001b[39m\u001b[32m/opt/miniconda3/envs/cnh_brain/lib/python3.13/site-packages/surfer/utils.py:121\u001b[39m, in \u001b[36mSurface.load_geometry\u001b[39m\u001b[34m(self)\u001b[39m\n\u001b[32m    118\u001b[39m \u001b[38;5;28;01mdef\u001b[39;00m\u001b[38;5;250m \u001b[39m\u001b[34mload_geometry\u001b[39m(\u001b[38;5;28mself\u001b[39m):\n\u001b[32m    119\u001b[39m     surf_path = op.join(\u001b[38;5;28mself\u001b[39m.data_path, \u001b[33m\"\u001b[39m\u001b[33msurf\u001b[39m\u001b[33m\"\u001b[39m,\n\u001b[32m    120\u001b[39m                         \u001b[33m\"\u001b[39m\u001b[38;5;132;01m%s\u001b[39;00m\u001b[33m.\u001b[39m\u001b[38;5;132;01m%s\u001b[39;00m\u001b[33m\"\u001b[39m % (\u001b[38;5;28mself\u001b[39m.hemi, \u001b[38;5;28mself\u001b[39m.surf))\n\u001b[32m--> \u001b[39m\u001b[32m121\u001b[39m     coords, faces = \u001b[43mnib\u001b[49m\u001b[43m.\u001b[49m\u001b[43mfreesurfer\u001b[49m\u001b[43m.\u001b[49m\u001b[43mread_geometry\u001b[49m\u001b[43m(\u001b[49m\u001b[43msurf_path\u001b[49m\u001b[43m)\u001b[49m\n\u001b[32m    122\u001b[39m     \u001b[38;5;28;01mif\u001b[39;00m \u001b[38;5;28mself\u001b[39m.units == \u001b[33m'\u001b[39m\u001b[33mm\u001b[39m\u001b[33m'\u001b[39m:\n\u001b[32m    123\u001b[39m         coords /= \u001b[32m1000.\u001b[39m\n",
            "\u001b[36mFile \u001b[39m\u001b[32m/opt/miniconda3/envs/cnh_brain/lib/python3.13/site-packages/nibabel/freesurfer/io.py:142\u001b[39m, in \u001b[36mread_geometry\u001b[39m\u001b[34m(filepath, read_metadata, read_stamp)\u001b[39m\n\u001b[32m    140\u001b[39m QUAD_MAGIC = \u001b[32m16777215\u001b[39m\n\u001b[32m    141\u001b[39m NEW_QUAD_MAGIC = \u001b[32m16777213\u001b[39m\n\u001b[32m--> \u001b[39m\u001b[32m142\u001b[39m \u001b[38;5;28;01mwith\u001b[39;00m \u001b[38;5;28;43mopen\u001b[39;49m\u001b[43m(\u001b[49m\u001b[43mfilepath\u001b[49m\u001b[43m,\u001b[49m\u001b[43m \u001b[49m\u001b[33;43m'\u001b[39;49m\u001b[33;43mrb\u001b[39;49m\u001b[33;43m'\u001b[39;49m\u001b[43m)\u001b[49m \u001b[38;5;28;01mas\u001b[39;00m fobj:\n\u001b[32m    143\u001b[39m     magic = _fread3(fobj)\n\u001b[32m    144\u001b[39m     \u001b[38;5;28;01mif\u001b[39;00m magic \u001b[38;5;129;01min\u001b[39;00m (QUAD_MAGIC, NEW_QUAD_MAGIC):  \u001b[38;5;66;03m# Quad file\u001b[39;00m\n",
            "\u001b[31mFileNotFoundError\u001b[39m: [Errno 2] No such file or directory: '/Users/nnagelia/freesurfer_subjects/fsaverage/surf/lh.white'"
          ]
        }
      ],
      "source": [
        "# import os\n",
        "# import numpy as np\n",
        "\n",
        "# from surfer import Brain, TimeViewer  # noqa, analysis:ignore\n",
        "# from surfer.io import read_stc\n",
        "\n",
        "# print(__doc__)\n",
        "\n",
        "# # Do some basic things: define subject, surface and hemisphere(s) to plot,\n",
        "# # and create the :class:`surfer.viz.Brain` object.\n",
        "\n",
        "# subject_id, surf = 'fsaverage', 'white'\n",
        "# hemi = 'lh'\n",
        "# brain = Brain(subject_id, hemi, surf, size=(800, 800), interaction='terrain',\n",
        "#               cortex='0.5', alpha=0.5, show_toolbar=True, units='m')\n",
        "\n",
        "# # Read the MNE dSPM inverse solution\n",
        "\n",
        "# hemi = 'lh'\n",
        "# stc_fname = os.path.join('example_data', 'meg_source_estimate-' +\n",
        "#                          hemi + '.stc')\n",
        "# stc = read_stc(stc_fname)\n",
        "\n",
        "# # data and vertices for which the data is defined\n",
        "# data = stc['data']\n",
        "# vertices = stc['vertices']\n",
        "# time = np.linspace(stc['tmin'], stc['tmin'] + data.shape[1] * stc['tstep'],\n",
        "#                    data.shape[1], endpoint=False)\n",
        "\n",
        "# # MNE will soon add the option for a \"full\" inverse to be computed and stored.\n",
        "# # In the meantime, we can get the equivalent for our data based on the\n",
        "# # surface normals:\n",
        "\n",
        "# data_full = brain.geo['lh'].nn[vertices][..., np.newaxis] * data[:, np.newaxis]\n",
        "\n",
        "# # Now we add the data and set the initial time displayed to 100 ms:\n",
        "# brain.add_data(data_full, colormap='hot', vertices=vertices, alpha=0.5,\n",
        "#                smoothing_steps=5, time=time, hemi=hemi, initial_time=0.1,\n",
        "#                vector_alpha=0.5, verbose=False)\n",
        "\n",
        "# # scale colormap\n",
        "# brain.scale_data_colormap(fmin=7, fmid=14, fmax=21, transparent=True,\n",
        "#                           verbose=False)\n",
        "\n",
        "# # viewer = TimeViewer(brain)\n"
      ]
    },
    {
      "cell_type": "markdown",
      "metadata": {},
      "source": [
        "show all views\n",
        "\n"
      ]
    }
  ],
  "metadata": {
    "kernelspec": {
      "display_name": "cnh_brain",
      "language": "python",
      "name": "python3"
    },
    "language_info": {
      "codemirror_mode": {
        "name": "ipython",
        "version": 3
      },
      "file_extension": ".py",
      "mimetype": "text/x-python",
      "name": "python",
      "nbconvert_exporter": "python",
      "pygments_lexer": "ipython3",
      "version": "3.13.2"
    }
  },
  "nbformat": 4,
  "nbformat_minor": 0
}
