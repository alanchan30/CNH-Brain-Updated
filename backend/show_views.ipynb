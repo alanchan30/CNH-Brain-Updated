{
  "cells": [
    {
      "cell_type": "code",
      "execution_count": 1,
      "metadata": {
        "collapsed": false
      },
      "outputs": [],
      "source": [
        "%matplotlib inline"
      ]
    },
    {
      "cell_type": "markdown",
      "metadata": {},
      "source": [
        "\n",
        "# Show the different brain views\n",
        "\n",
        "\n",
        "Among the views available are lateral, rostral, caudal, frontal etc.\n"
      ]
    },
    {
      "cell_type": "code",
      "execution_count": 2,
      "metadata": {
        "collapsed": false
      },
      "outputs": [
        {
          "name": "stdout",
          "output_type": "stream",
          "text": [
            "SUBJECTS_DIR from os.environ: /Applications/freesurfer/8.0.0/subjects\n"
          ]
        }
      ],
      "source": [
        "import os\n",
        "from surfer import Brain\n",
        "\n",
        "print(\"SUBJECTS_DIR from os.environ:\", os.environ.get('SUBJECTS_DIR', 'Not set'))\n",
        "\n",
        "subject_id, surf = 'fsaverage', 'white'\n",
        "hemi = 'lh'\n",
        "brain = Brain(subject_id, hemi, surf, size=(800, 800), interaction='terrain',\n",
        "              cortex='0.5', alpha=0.5, show_toolbar=True, units='m')"
      ]
    },
    {
      "cell_type": "code",
      "execution_count": null,
      "metadata": {},
      "outputs": [],
      "source": []
    },
    {
      "cell_type": "markdown",
      "metadata": {},
      "source": [
        "show all views\n",
        "\n"
      ]
    }
  ],
  "metadata": {
    "kernelspec": {
      "display_name": "base",
      "language": "python",
      "name": "python3"
    },
    "language_info": {
      "codemirror_mode": {
        "name": "ipython",
        "version": 3
      },
      "file_extension": ".py",
      "mimetype": "text/x-python",
      "name": "python",
      "nbconvert_exporter": "python",
      "pygments_lexer": "ipython3",
      "version": "3.12.2"
    }
  },
  "nbformat": 4,
  "nbformat_minor": 0
}
