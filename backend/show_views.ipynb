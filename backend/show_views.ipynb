{
  "cells": [
    {
      "cell_type": "code",
      "execution_count": 1,
      "metadata": {
        "collapsed": false
      },
      "outputs": [],
      "source": [
        "%matplotlib inline"
      ]
    },
    {
      "cell_type": "markdown",
      "metadata": {},
      "source": [
        "\n",
        "# Show the different brain views\n",
        "\n",
        "\n",
        "Among the views available are lateral, rostral, caudal, frontal etc.\n"
      ]
    },
    {
      "cell_type": "code",
      "execution_count": 1,
      "metadata": {
        "collapsed": false
      },
      "outputs": [
        {
          "name": "stdout",
          "output_type": "stream",
          "text": [
            "Using device: mps\n",
            "Training the model...\n",
            "Epoch [20/100], Loss: 0.6817\n",
            "Epoch [40/100], Loss: 0.3439\n",
            "Epoch [60/100], Loss: 0.2117\n",
            "Epoch [80/100], Loss: 0.1396\n",
            "Epoch [100/100], Loss: 0.1026\n",
            "\n",
            "Testing the model...\n",
            "Test Accuracy: 96.67%\n",
            "\n",
            "Example Input (raw): tensor([[5.1000, 3.5000, 1.4000, 0.2000]])\n",
            "Example Input (scaled): tensor([[-0.9007,  1.0190, -1.3402, -1.3154]], device='mps:0')\n",
            "Raw Output (logits): tensor([[ 3.9055, -2.4327, -5.0235]], device='mps:0')\n",
            "Probabilities: tensor([[9.9810e-01, 1.7642e-03, 1.3223e-04]], device='mps:0')\n",
            "Predicted Class: 0 (0 = setosa, 1 = versicolor, 2 = virginica)\n",
            "Expected Class: 0 (Iris-setosa)\n"
          ]
        }
      ],
      "source": []
    },
    {
      "cell_type": "code",
      "execution_count": null,
      "metadata": {},
      "outputs": [],
      "source": []
    },
    {
      "cell_type": "markdown",
      "metadata": {},
      "source": [
        "show all views\n",
        "\n"
      ]
    }
  ],
  "metadata": {
    "kernelspec": {
      "display_name": "base",
      "language": "python",
      "name": "python3"
    },
    "language_info": {
      "codemirror_mode": {
        "name": "ipython",
        "version": 3
      },
      "file_extension": ".py",
      "mimetype": "text/x-python",
      "name": "python",
      "nbconvert_exporter": "python",
      "pygments_lexer": "ipython3",
      "version": "3.12.2"
    }
  },
  "nbformat": 4,
  "nbformat_minor": 0
}
